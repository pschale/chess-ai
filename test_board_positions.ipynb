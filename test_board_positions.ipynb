{
 "cells": [
  {
   "cell_type": "code",
   "execution_count": 66,
   "metadata": {
    "collapsed": true
   },
   "outputs": [],
   "source": [
    "import chess_game as cg\n",
    "import numpy as np\n",
    "import pandas as pd"
   ]
  },
  {
   "cell_type": "code",
   "execution_count": 67,
   "metadata": {},
   "outputs": [],
   "source": [
    "#Set up empty dataframe to store board positions\n",
    "#first need the column labels\n",
    "b = np.empty((8,8), dtype='str')\n",
    "letters = ['a', 'b', 'c', 'd', 'e', 'f', 'g', 'h']\n",
    "for i in range(8):\n",
    "    b[i, :] = letters[i]\n",
    "c = np.empty((8,8), dtype='str')\n",
    "for i in range(8):\n",
    "    c[:, i] = str(i+1)\n",
    "squares = np.core.defchararray.add(b,c)\n",
    "cols = np.append(squares.flatten(), ['white_tomove', 'w_castle_kingside', 'w_castle_queenside', \n",
    "                                     'b_castle_kingside', 'b_castle_queenside', 'winner'])\n",
    "#now make the actual dataframe (empty)\n",
    "df = pd.DataFrame(columns=cols, data=None)"
   ]
  },
  {
   "cell_type": "code",
   "execution_count": 68,
   "metadata": {},
   "outputs": [
    {
     "name": "stdout",
     "output_type": "stream",
     "text": [
      "Blank board created. White to move, and no castling available\n"
     ]
    }
   ],
   "source": [
    "#Simple position where next player to move wins\n",
    "a = cg.game_board('blank')\n",
    "a.board[(0,0)]='R'\n",
    "a.board[(0,1)]='q'\n",
    "a.board[(5,7)]='K'\n",
    "a.board[(2,6)]='k'\n",
    "a.white_tomove = True\n",
    "df.loc[len(df)] =list(a.to_csv_format()[:-2]) + ['1']\n",
    "\n",
    "a.white_tomove = False\n",
    "df.loc[len(df)] =list(a.to_csv_format()[:-2]) + ['-1']"
   ]
  },
  {
   "cell_type": "code",
   "execution_count": 69,
   "metadata": {},
   "outputs": [],
   "source": [
    "#Early game, white has just given away his queen (if black notices)\n",
    "a = cg.game_board()\n",
    "a.move('e4')\n",
    "a.move('Nf6')\n",
    "a.move('Qh5')\n",
    "df.loc[len(df)] =list(a.to_csv_format()[:-2]) + ['-1']"
   ]
  },
  {
   "cell_type": "code",
   "execution_count": 70,
   "metadata": {},
   "outputs": [
    {
     "name": "stdout",
     "output_type": "stream",
     "text": [
      "Blank board created. White to move, and no castling available\n"
     ]
    }
   ],
   "source": [
    "#White can promote a pawn to a queen\n",
    "a = cg.game_board('blank')\n",
    "a.white_tomove = True\n",
    "a.board[(2,6)] = 'P'\n",
    "a.board[(1,7)] = 'K'\n",
    "\n",
    "a.board[(6,7)] = 'k'\n",
    "a.board[(4,0)] = 'r'\n",
    "df.loc[len(df)] =list(a.to_csv_format()[:-2]) + ['1']"
   ]
  },
  {
   "cell_type": "code",
   "execution_count": 71,
   "metadata": {
    "collapsed": true
   },
   "outputs": [],
   "source": [
    "df.to_csv('test_positions.csv')"
   ]
  },
  {
   "cell_type": "code",
   "execution_count": null,
   "metadata": {
    "collapsed": true
   },
   "outputs": [],
   "source": []
  }
 ],
 "metadata": {
  "kernelspec": {
   "display_name": "Python testenv",
   "language": "python",
   "name": "testenv"
  },
  "language_info": {
   "codemirror_mode": {
    "name": "ipython",
    "version": 3
   },
   "file_extension": ".py",
   "mimetype": "text/x-python",
   "name": "python",
   "nbconvert_exporter": "python",
   "pygments_lexer": "ipython3",
   "version": "3.5.3"
  }
 },
 "nbformat": 4,
 "nbformat_minor": 2
}
