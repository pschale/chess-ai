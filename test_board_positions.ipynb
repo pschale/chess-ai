{
 "cells": [
  {
   "cell_type": "code",
   "execution_count": 1,
   "metadata": {
    "collapsed": true
   },
   "outputs": [],
   "source": [
    "import chess_game as cg\n",
    "import numpy as np\n",
    "import pandas as pd"
   ]
  },
  {
   "cell_type": "code",
   "execution_count": 2,
   "metadata": {},
   "outputs": [],
   "source": [
    "#Set up empty dataframe to store board positions\n",
    "#first need the column labels\n",
    "b = np.empty((8,8), dtype='str')\n",
    "letters = ['a', 'b', 'c', 'd', 'e', 'f', 'g', 'h']\n",
    "for i in range(8):\n",
    "    b[i, :] = letters[i]\n",
    "c = np.empty((8,8), dtype='str')\n",
    "for i in range(8):\n",
    "    c[:, i] = str(i+1)\n",
    "squares = np.core.defchararray.add(b,c)\n",
    "cols = np.append(squares.flatten(), ['white_tomove', 'w_castle_kingside', 'w_castle_queenside', \n",
    "                                     'b_castle_kingside', 'b_castle_queenside', 'winner'])\n",
    "#now make the actual dataframe (empty)\n",
    "df = pd.DataFrame(columns=cols, data=None)"
   ]
  },
  {
   "cell_type": "code",
   "execution_count": 3,
   "metadata": {},
   "outputs": [
    {
     "name": "stdout",
     "output_type": "stream",
     "text": [
      "Blank board created. White to move, and no castling available\n"
     ]
    }
   ],
   "source": [
    "#Simple position where next player to move wins\n",
    "a = cg.game_board('blank')\n",
    "a.board[(0,0)]='R'\n",
    "a.board[(0,1)]='q'\n",
    "a.board[(5,7)]='K'\n",
    "a.board[(2,6)]='k'\n",
    "a.white_tomove = True\n",
    "df.loc[len(df)] =list(a.to_csv_format()[:-2]) + ['1']\n",
    "\n",
    "a.white_tomove = False\n",
    "df.loc[len(df)] =list(a.to_csv_format()[:-2]) + ['-1']"
   ]
  },
  {
   "cell_type": "code",
   "execution_count": 4,
   "metadata": {},
   "outputs": [],
   "source": [
    "#Early game, white has just given away his queen (if black notices)\n",
    "a = cg.game_board()\n",
    "a.move('e4')\n",
    "a.move('Nf6')\n",
    "a.move('Qh5')\n",
    "df.loc[len(df)] =list(a.to_csv_format()[:-2]) + ['-1']"
   ]
  },
  {
   "cell_type": "code",
   "execution_count": 5,
   "metadata": {},
   "outputs": [
    {
     "name": "stdout",
     "output_type": "stream",
     "text": [
      "Blank board created. White to move, and no castling available\n"
     ]
    }
   ],
   "source": [
    "#White can promote a pawn to a queen\n",
    "a = cg.game_board('blank')\n",
    "a.white_tomove = True\n",
    "a.board[(2,6)] = 'P'\n",
    "a.board[(1,7)] = 'K'\n",
    "\n",
    "a.board[(6,7)] = 'k'\n",
    "a.board[(4,0)] = 'r'\n",
    "df.loc[len(df)] =list(a.to_csv_format()[:-2]) + ['1']"
   ]
  },
  {
   "cell_type": "code",
   "execution_count": 6,
   "metadata": {},
   "outputs": [
    {
     "name": "stdout",
     "output_type": "stream",
     "text": [
      "Blank board created. White to move, and no castling available\n"
     ]
    }
   ],
   "source": [
    "#knight fork will cost white his queen\n",
    "a = cg.game_board('blank')\n",
    "a.white_tomove = True\n",
    "a.board[(0,3)] = 'K'\n",
    "a.board[(1,6)] = 'Q'\n",
    "\n",
    "a.board[(5,6)] = 'p'\n",
    "a.board[6,5] = 'p'\n",
    "a.board[7,6] = 'p'\n",
    "a.board[6,6] = 'k'\n",
    "a.board[2,4] = 'n'\n",
    "\n",
    "df.loc[len(df)] =list(a.to_csv_format()[:-2]) + ['-1']"
   ]
  },
  {
   "cell_type": "code",
   "execution_count": 7,
   "metadata": {},
   "outputs": [
    {
     "name": "stdout",
     "output_type": "stream",
     "text": [
      "Blank board created. White to move, and no castling available\n"
     ]
    }
   ],
   "source": [
    "#white must give up queen, or be checkmated\n",
    "a = cg.game_board('blank')\n",
    "a.white_tomove = True\n",
    "a.board[[5,6,7],[1,1,1]] = 'P'\n",
    "a.board[6,0] = 'K'\n",
    "a.board[5,4] = 'Q'\n",
    "a.board[3,2] = 'P'\n",
    "a.board[2,2] = 'P'\n",
    "\n",
    "a.board[[0,1,5,6,7],[6,6,6,5,6]] =  'p'\n",
    "a.board[6,7] = 'k'\n",
    "a.board[4,7] = 'r'\n",
    "\n",
    "df.loc[len(df)] =list(a.to_csv_format()[:-2]) + ['-1']"
   ]
  },
  {
   "cell_type": "code",
   "execution_count": 8,
   "metadata": {},
   "outputs": [],
   "source": [
    "df.to_csv('test_board_positions.csv')"
   ]
  },
  {
   "cell_type": "code",
   "execution_count": null,
   "metadata": {
    "collapsed": true
   },
   "outputs": [],
   "source": []
  }
 ],
 "metadata": {
  "kernelspec": {
   "display_name": "Python testenv",
   "language": "python",
   "name": "testenv"
  },
  "language_info": {
   "codemirror_mode": {
    "name": "ipython",
    "version": 3
   },
   "file_extension": ".py",
   "mimetype": "text/x-python",
   "name": "python",
   "nbconvert_exporter": "python",
   "pygments_lexer": "ipython3",
   "version": "3.5.3"
  }
 },
 "nbformat": 4,
 "nbformat_minor": 2
}
