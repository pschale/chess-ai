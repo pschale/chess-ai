{
 "cells": [
  {
   "cell_type": "code",
   "execution_count": 1,
   "metadata": {},
   "outputs": [
    {
     "name": "stderr",
     "output_type": "stream",
     "text": [
      "/Users/pschale/anaconda/envs/tf/lib/python3.5/importlib/_bootstrap.py:222: RuntimeWarning: compiletime version 3.6 of module 'tensorflow.python.framework.fast_tensor_util' does not match runtime version 3.5\n",
      "  return f(*args, **kwds)\n"
     ]
    },
    {
     "name": "stdout",
     "output_type": "stream",
     "text": [
      "WARNING:tensorflow:From /Users/pschale/anaconda/envs/tf/lib/python3.5/site-packages/tensorflow/contrib/learn/python/learn/datasets/base.py:198: retry (from tensorflow.contrib.learn.python.learn.datasets.base) is deprecated and will be removed in a future version.\n",
      "Instructions for updating:\n",
      "Use the retry module or similar alternatives.\n"
     ]
    }
   ],
   "source": [
    "import tflearn\n",
    "import tensorflow as tf\n",
    "\n",
    "import pandas as pd\n",
    "from sklearn import preprocessing\n",
    "import chess_game as cg\n",
    "import numpy as np\n",
    "\n"
   ]
  },
  {
   "cell_type": "code",
   "execution_count": 2,
   "metadata": {},
   "outputs": [
    {
     "name": "stdout",
     "output_type": "stream",
     "text": [
      "WARNING:tensorflow:From /Users/pschale/anaconda/envs/tf/lib/python3.5/site-packages/tflearn/initializations.py:119: UniformUnitScaling.__init__ (from tensorflow.python.ops.init_ops) is deprecated and will be removed in a future version.\n",
      "Instructions for updating:\n",
      "Use tf.initializers.variance_scaling instead with distribution=uniform to get equivalent behavior.\n"
     ]
    }
   ],
   "source": [
    "#this is the same setup for the NN as in the other notebook\n",
    "#current method of loading save only loads the values of the variables; everything has to be set up before that\n",
    "\n",
    "board = tflearn.layers.core.input_data(shape=(None, 64, 8), name='board_input')\n",
    "aux = tflearn.layers.core.input_data(shape=(None, 7), name='aux_input')\n",
    "Y = tflearn.layers.core.input_data(shape=(None, 3), name='labels')\n",
    "\n",
    "board_input_reshaped = tf.reshape(board, [-1, 8, 8, 8])\n",
    "\n",
    "conv4 = tflearn.conv_2d(board_input_reshaped, 32, 4, activation='relu')\n",
    "\n",
    "\n",
    "conv2 = tflearn.conv_2d(board_input_reshaped, 32, 2, activation='relu')\n",
    "conv2_4 = tflearn.conv_2d(conv2, 64, 4, activation='relu')\n",
    "# note: this is how to get separate branches of a larger NN and then have them converge\n",
    "fc1 = tflearn.layers.core.fully_connected(tf.concat([conv4, conv2_4], 3), n_units=1000, activation='relu')\n",
    "\n",
    "fc2 = tflearn.layers.core.fully_connected(tf.concat([fc1, aux], 1), n_units=2000, activation='relu')\n",
    "\n",
    "net = tflearn.layers.core.fully_connected(fc2, n_units=3, activation='softmax')\n",
    "\n",
    "loss = tf.reduce_mean(tf.nn.softmax_cross_entropy_with_logits_v2(logits=net, labels=Y))\n",
    "optimizer = tf.train.AdamOptimizer(learning_rate=0.00001).minimize(loss)\n",
    "\n",
    "init = tf.global_variables_initializer()"
   ]
  },
  {
   "cell_type": "code",
   "execution_count": 3,
   "metadata": {},
   "outputs": [
    {
     "name": "stdout",
     "output_type": "stream",
     "text": [
      "INFO:tensorflow:Restoring parameters from ./test_saved_CNN\n"
     ]
    }
   ],
   "source": [
    "# starting session and loading variables\n",
    "saver = tf.train.Saver()\n",
    "\n",
    "sess = tf.Session()\n",
    "#saver.restore(sess, \"/Users/pschale/pythonstuff/chess_ai_project/test_saved_CNN\")\n",
    "saver.restore(sess, \"./test_saved_CNN\")"
   ]
  },
  {
   "cell_type": "code",
   "execution_count": 5,
   "metadata": {},
   "outputs": [
    {
     "name": "stdout",
     "output_type": "stream",
     "text": [
      "|   | n |   |   | k |   |   | K\n",
      "|   |   |   | p | B |   |   |  \n",
      "|   |   |   | P |   |   |   |  \n",
      "| p |   | p |   | P |   |   |  \n",
      "|   |   | P |   |   |   |   |  \n",
      "| P |   |   |   |   | r | P |  \n",
      "| b |   |   |   |   |   |   |  \n",
      "|   |   |   |   |   |   |   |  \n"
     ]
    }
   ],
   "source": [
    "# plays a game and saves the game to a numpy file\n",
    "# the format it's saved in probably isn't ideal for training\n",
    "# to avoid getting stuck in dumb loops, this randomly picks from the top 5 moves\n",
    "\n",
    "a = cg.game_board()\n",
    "board_positions_ar = np.empty((0, 64, 8))\n",
    "aux_ar = np.empty((0,7))\n",
    "score = None\n",
    "for i in range(100): #do first 10 moves for each side\n",
    "    next_boards = a.find_all_next_board_positions()\n",
    "    next_inputs = [ele.get_NN_inputs() for ele in next_boards]\n",
    "    batch_board = np.array([ele[0] for ele in next_inputs])\n",
    "    batch_aux = np.array([ele[1] for ele in next_inputs])\n",
    "    evaluation = sess.run(net, feed_dict={board: batch_board, aux: batch_aux})\n",
    "    #chosen_movenum = np.argmax(evaluation, 0)[-2*(int(a.white_tomove) - 1)]\n",
    "    chosen_movenum = np.random.choice(np.argsort(evaluation[:, -2*(int(a.white_tomove) - 1)])[:5])\n",
    "    a = next_boards[chosen_movenum]\n",
    "    \n",
    "    nextboard_inputs = a.get_NN_inputs()\n",
    "    board_positions_ar = np.append(board_positions_ar, [nextboard_inputs[0]], axis=0)\n",
    "    aux_ar = np.append(aux_ar, [nextboard_inputs[1]], axis=0)\n",
    "    game_end = a.game_over()\n",
    "    if game_end[0]:\n",
    "        score = game_end[0]\n",
    "        break\n",
    "        \n",
    "if score:\n",
    "    score = int((-2)*score + 2)\n",
    "else:\n",
    "    material = a.to_csv_format()[-2:]\n",
    "    if material[0] > material[1]:\n",
    "        score = 0\n",
    "    elif material[1] > material[0]:\n",
    "        score = 2\n",
    "    else:\n",
    "        score = 1\n",
    "        \n",
    "score_onehot = np.zeros((board_positions_ar.shape[0],3))\n",
    "score_onehot[:,score] = 1\n",
    "\n",
    "game_array = np.array([board_positions_ar, aux_ar, score])\n",
    "\n",
    "print(a)\n",
    "\n",
    "np.save('ai_games/ai_game_1', game_array)"
   ]
  },
  {
   "cell_type": "code",
   "execution_count": null,
   "metadata": {},
   "outputs": [],
   "source": [
    "print(a)"
   ]
  },
  {
   "cell_type": "code",
   "execution_count": null,
   "metadata": {},
   "outputs": [],
   "source": [
    "score"
   ]
  },
  {
   "cell_type": "code",
   "execution_count": null,
   "metadata": {
    "collapsed": true
   },
   "outputs": [],
   "source": []
  }
 ],
 "metadata": {
  "kernelspec": {
   "display_name": "Python [conda env:tf]",
   "language": "python",
   "name": "conda-env-tf-py"
  },
  "language_info": {
   "codemirror_mode": {
    "name": "ipython",
    "version": 3
   },
   "file_extension": ".py",
   "mimetype": "text/x-python",
   "name": "python",
   "nbconvert_exporter": "python",
   "pygments_lexer": "ipython3",
   "version": "3.5.2"
  }
 },
 "nbformat": 4,
 "nbformat_minor": 2
}
