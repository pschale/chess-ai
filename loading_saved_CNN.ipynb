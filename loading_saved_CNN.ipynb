{
 "cells": [
  {
   "cell_type": "code",
   "execution_count": 1,
   "metadata": {},
   "outputs": [
    {
     "name": "stderr",
     "output_type": "stream",
     "text": [
      "/Users/pschale/anaconda/envs/tf/lib/python3.5/importlib/_bootstrap.py:222: RuntimeWarning: compiletime version 3.6 of module 'tensorflow.python.framework.fast_tensor_util' does not match runtime version 3.5\n",
      "  return f(*args, **kwds)\n"
     ]
    },
    {
     "name": "stdout",
     "output_type": "stream",
     "text": [
      "WARNING:tensorflow:From /Users/pschale/anaconda/envs/tf/lib/python3.5/site-packages/tensorflow/contrib/learn/python/learn/datasets/base.py:198: retry (from tensorflow.contrib.learn.python.learn.datasets.base) is deprecated and will be removed in a future version.\n",
      "Instructions for updating:\n",
      "Use the retry module or similar alternatives.\n"
     ]
    }
   ],
   "source": [
    "import tflearn\n",
    "import tensorflow as tf\n",
    "\n",
    "import pandas as pd\n",
    "from sklearn import preprocessing\n",
    "import chess_game as cg\n",
    "import numpy as np\n",
    "import time\n"
   ]
  },
  {
   "cell_type": "code",
   "execution_count": 3,
   "metadata": {},
   "outputs": [],
   "source": [
    "#setup for NN\n",
    "#if loading saved NN, must setup network same as before\n",
    "#current method of loading save only loads the values of the variables; everything has to be set up before that\n",
    "\n",
    "board = tflearn.layers.core.input_data(shape=(None, 8, 8, 10), name='board_input')\n",
    "aux = tflearn.layers.core.input_data(shape=(None, 6), name='aux_input')\n",
    "Y = tflearn.layers.core.input_data(shape=(None, 3), name='labels')\n",
    "\n",
    "conv4 = tflearn.conv_2d(board, 64, [4,4], activation='relu')\n",
    "conv4 = tflearn.conv_2d(conv4, 128, [4,4], activation='relu')\n",
    "\n",
    "conv3 = tflearn.conv_2d(board, 64, [3,3], activation='relu')\n",
    "conv3 = tflearn.conv_2d(board, 128, [4,4], activation='relu')\n",
    "\n",
    "conv2 = tflearn.conv_2d(board, 64, [2,2], activation='relu')\n",
    "conv2_4 = tflearn.conv_2d(conv2, 128, [4,4], activation='relu')\n",
    "\n",
    "ranks = tflearn.conv_2d(board, 64, [1,8], activation='relu')\n",
    "files = tflearn.conv_2d(board, 64, [8,1], activation='relu')\n",
    "\n",
    "\n",
    "# note: this is how to get separate branches of a larger NN and then have them converge\n",
    "fc1 = tflearn.layers.core.fully_connected(tf.concat([conv4, conv3, conv2_4, ranks, files], 3), n_units=2000, activation='relu')\n",
    "\n",
    "fc2 = tflearn.layers.core.fully_connected(tf.concat([fc1, aux], 1), n_units=1000, activation='relu')\n",
    "\n",
    "fc3 = tflearn.layers.core.fully_connected(fc2, n_units=300, activation='relu')\n",
    "\n",
    "net = tflearn.layers.core.fully_connected(fc3, n_units=3, activation='softmax')\n",
    "\n",
    "loss = tf.reduce_mean(tf.nn.softmax_cross_entropy_with_logits_v2(logits=net, labels=Y))\n",
    "percent_correct = tf.metrics.accuracy(Y, net)\n",
    "optimizer = tf.train.AdamOptimizer(learning_rate=0.000001).minimize(loss)\n",
    "\n",
    "init = tf.global_variables_initializer()"
   ]
  },
  {
   "cell_type": "code",
   "execution_count": 4,
   "metadata": {
    "collapsed": true
   },
   "outputs": [],
   "source": [
    "sess = tf.Session()\n",
    "sess.run(init)"
   ]
  },
  {
   "cell_type": "code",
   "execution_count": 28,
   "metadata": {},
   "outputs": [],
   "source": [
    "def get_next_board(game_board, sess):\n",
    "    t = time.time()\n",
    "    next_boards = game_board.find_all_next_board_positions()\n",
    "    color = 'W' if game_board.white_tomove else 'B'\n",
    "    t = time.time()\n",
    "    next_inputs = [ele.get_NN_inputs(color) for ele in next_boards]\n",
    "    \n",
    "    batch_board = np.array([ele[0] for ele in next_inputs])\n",
    "    batch_aux = np.array([ele[1] for ele in next_inputs])\n",
    "    print(time.time()-t)\n",
    "    evaluation = sess.run(net, feed_dict={board: batch_board, \n",
    "                                          aux: batch_aux})\n",
    "    #chosen_movenum = np.argmax(evaluation, 0)[-2*(int(a.white_tomove) - 1)]\n",
    "    #chosen_movenum = np.random.choice(np.argsort(evaluation[:, -2*(int(a.white_tomove) - 1)])[:2])\n",
    "    chosen_movenum = np.argsort(evaluation[:, -2*(int(a.white_tomove) - 1)])[0]\n",
    "    return next_boards[chosen_movenum]"
   ]
  },
  {
   "cell_type": "code",
   "execution_count": 29,
   "metadata": {},
   "outputs": [
    {
     "name": "stdout",
     "output_type": "stream",
     "text": [
      "Playing games...\n",
      "0\n",
      "0.31662511825561523\n",
      "0.3417680263519287\n",
      "0.4077329635620117\n",
      "0.41051411628723145\n",
      "0.7213180065155029\n",
      "0.5305991172790527\n",
      "1.146083116531372\n",
      "0.49167919158935547\n",
      "1.1903729438781738\n",
      "0.5340380668640137\n"
     ]
    },
    {
     "ename": "KeyboardInterrupt",
     "evalue": "",
     "output_type": "error",
     "traceback": [
      "\u001b[0;31m---------------------------------------------------------------------------\u001b[0m",
      "\u001b[0;31mKeyboardInterrupt\u001b[0m                         Traceback (most recent call last)",
      "\u001b[0;32m<ipython-input-29-0795a48eeae2>\u001b[0m in \u001b[0;36m<module>\u001b[0;34m()\u001b[0m\n\u001b[1;32m     14\u001b[0m         \u001b[0;32mfor\u001b[0m \u001b[0mi\u001b[0m \u001b[0;32min\u001b[0m \u001b[0mrange\u001b[0m\u001b[0;34m(\u001b[0m\u001b[0;36m60\u001b[0m\u001b[0;34m)\u001b[0m\u001b[0;34m:\u001b[0m \u001b[0;31m#do first 30 moves for each side\u001b[0m\u001b[0;34m\u001b[0m\u001b[0m\n\u001b[1;32m     15\u001b[0m             \u001b[0;31m#startingtime  = time.time()\u001b[0m\u001b[0;34m\u001b[0m\u001b[0;34m\u001b[0m\u001b[0m\n\u001b[0;32m---> 16\u001b[0;31m             \u001b[0ma\u001b[0m \u001b[0;34m=\u001b[0m \u001b[0mget_next_board\u001b[0m\u001b[0;34m(\u001b[0m\u001b[0ma\u001b[0m\u001b[0;34m,\u001b[0m \u001b[0msess\u001b[0m\u001b[0;34m)\u001b[0m\u001b[0;34m\u001b[0m\u001b[0m\n\u001b[0m\u001b[1;32m     17\u001b[0m             \u001b[0mcolor\u001b[0m \u001b[0;34m=\u001b[0m \u001b[0;34m'W'\u001b[0m \u001b[0;32mif\u001b[0m \u001b[0ma\u001b[0m\u001b[0;34m.\u001b[0m\u001b[0mwhite_tomove\u001b[0m \u001b[0;32melse\u001b[0m \u001b[0;34m'B'\u001b[0m\u001b[0;34m\u001b[0m\u001b[0m\n\u001b[1;32m     18\u001b[0m             \u001b[0mnextboard_inputs\u001b[0m \u001b[0;34m=\u001b[0m \u001b[0ma\u001b[0m\u001b[0;34m.\u001b[0m\u001b[0mget_NN_inputs\u001b[0m\u001b[0;34m(\u001b[0m\u001b[0mcolor\u001b[0m\u001b[0;34m)\u001b[0m\u001b[0;34m\u001b[0m\u001b[0m\n",
      "\u001b[0;32m<ipython-input-28-9cc52867e345>\u001b[0m in \u001b[0;36mget_next_board\u001b[0;34m(game_board, sess)\u001b[0m\n\u001b[1;32m      4\u001b[0m     \u001b[0mcolor\u001b[0m \u001b[0;34m=\u001b[0m \u001b[0;34m'W'\u001b[0m \u001b[0;32mif\u001b[0m \u001b[0mgame_board\u001b[0m\u001b[0;34m.\u001b[0m\u001b[0mwhite_tomove\u001b[0m \u001b[0;32melse\u001b[0m \u001b[0;34m'B'\u001b[0m\u001b[0;34m\u001b[0m\u001b[0m\n\u001b[1;32m      5\u001b[0m     \u001b[0mt\u001b[0m \u001b[0;34m=\u001b[0m \u001b[0mtime\u001b[0m\u001b[0;34m.\u001b[0m\u001b[0mtime\u001b[0m\u001b[0;34m(\u001b[0m\u001b[0;34m)\u001b[0m\u001b[0;34m\u001b[0m\u001b[0m\n\u001b[0;32m----> 6\u001b[0;31m     \u001b[0mnext_inputs\u001b[0m \u001b[0;34m=\u001b[0m \u001b[0;34m[\u001b[0m\u001b[0mele\u001b[0m\u001b[0;34m.\u001b[0m\u001b[0mget_NN_inputs\u001b[0m\u001b[0;34m(\u001b[0m\u001b[0mcolor\u001b[0m\u001b[0;34m)\u001b[0m \u001b[0;32mfor\u001b[0m \u001b[0mele\u001b[0m \u001b[0;32min\u001b[0m \u001b[0mnext_boards\u001b[0m\u001b[0;34m]\u001b[0m\u001b[0;34m\u001b[0m\u001b[0m\n\u001b[0m\u001b[1;32m      7\u001b[0m \u001b[0;34m\u001b[0m\u001b[0m\n\u001b[1;32m      8\u001b[0m     \u001b[0mbatch_board\u001b[0m \u001b[0;34m=\u001b[0m \u001b[0mnp\u001b[0m\u001b[0;34m.\u001b[0m\u001b[0marray\u001b[0m\u001b[0;34m(\u001b[0m\u001b[0;34m[\u001b[0m\u001b[0mele\u001b[0m\u001b[0;34m[\u001b[0m\u001b[0;36m0\u001b[0m\u001b[0;34m]\u001b[0m \u001b[0;32mfor\u001b[0m \u001b[0mele\u001b[0m \u001b[0;32min\u001b[0m \u001b[0mnext_inputs\u001b[0m\u001b[0;34m]\u001b[0m\u001b[0;34m)\u001b[0m\u001b[0;34m\u001b[0m\u001b[0m\n",
      "\u001b[0;32m<ipython-input-28-9cc52867e345>\u001b[0m in \u001b[0;36m<listcomp>\u001b[0;34m(.0)\u001b[0m\n\u001b[1;32m      4\u001b[0m     \u001b[0mcolor\u001b[0m \u001b[0;34m=\u001b[0m \u001b[0;34m'W'\u001b[0m \u001b[0;32mif\u001b[0m \u001b[0mgame_board\u001b[0m\u001b[0;34m.\u001b[0m\u001b[0mwhite_tomove\u001b[0m \u001b[0;32melse\u001b[0m \u001b[0;34m'B'\u001b[0m\u001b[0;34m\u001b[0m\u001b[0m\n\u001b[1;32m      5\u001b[0m     \u001b[0mt\u001b[0m \u001b[0;34m=\u001b[0m \u001b[0mtime\u001b[0m\u001b[0;34m.\u001b[0m\u001b[0mtime\u001b[0m\u001b[0;34m(\u001b[0m\u001b[0;34m)\u001b[0m\u001b[0;34m\u001b[0m\u001b[0m\n\u001b[0;32m----> 6\u001b[0;31m     \u001b[0mnext_inputs\u001b[0m \u001b[0;34m=\u001b[0m \u001b[0;34m[\u001b[0m\u001b[0mele\u001b[0m\u001b[0;34m.\u001b[0m\u001b[0mget_NN_inputs\u001b[0m\u001b[0;34m(\u001b[0m\u001b[0mcolor\u001b[0m\u001b[0;34m)\u001b[0m \u001b[0;32mfor\u001b[0m \u001b[0mele\u001b[0m \u001b[0;32min\u001b[0m \u001b[0mnext_boards\u001b[0m\u001b[0;34m]\u001b[0m\u001b[0;34m\u001b[0m\u001b[0m\n\u001b[0m\u001b[1;32m      7\u001b[0m \u001b[0;34m\u001b[0m\u001b[0m\n\u001b[1;32m      8\u001b[0m     \u001b[0mbatch_board\u001b[0m \u001b[0;34m=\u001b[0m \u001b[0mnp\u001b[0m\u001b[0;34m.\u001b[0m\u001b[0marray\u001b[0m\u001b[0;34m(\u001b[0m\u001b[0;34m[\u001b[0m\u001b[0mele\u001b[0m\u001b[0;34m[\u001b[0m\u001b[0;36m0\u001b[0m\u001b[0;34m]\u001b[0m \u001b[0;32mfor\u001b[0m \u001b[0mele\u001b[0m \u001b[0;32min\u001b[0m \u001b[0mnext_inputs\u001b[0m\u001b[0;34m]\u001b[0m\u001b[0;34m)\u001b[0m\u001b[0;34m\u001b[0m\u001b[0m\n",
      "\u001b[0;32m/Users/pschale/pythonstuff/chess_ai_project/chess_game.py\u001b[0m in \u001b[0;36mget_NN_inputs\u001b[0;34m(self, color)\u001b[0m\n\u001b[1;32m    567\u001b[0m         \u001b[0mboard_onehot\u001b[0m\u001b[0;34m[\u001b[0m\u001b[0;34m:\u001b[0m\u001b[0;34m,\u001b[0m \u001b[0;34m:\u001b[0m\u001b[0;34m,\u001b[0m \u001b[0;36m7\u001b[0m\u001b[0;34m]\u001b[0m \u001b[0;34m=\u001b[0m \u001b[0mnp\u001b[0m\u001b[0;34m.\u001b[0m\u001b[0misin\u001b[0m\u001b[0;34m(\u001b[0m\u001b[0mself\u001b[0m\u001b[0;34m.\u001b[0m\u001b[0mboard\u001b[0m\u001b[0;34m,\u001b[0m \u001b[0;34m[\u001b[0m\u001b[0;34m'P'\u001b[0m\u001b[0;34m,\u001b[0m \u001b[0;34m'p'\u001b[0m\u001b[0;34m]\u001b[0m\u001b[0;34m)\u001b[0m\u001b[0;34m\u001b[0m\u001b[0m\n\u001b[1;32m    568\u001b[0m \u001b[0;34m\u001b[0m\u001b[0m\n\u001b[0;32m--> 569\u001b[0;31m         \u001b[0mwthreats\u001b[0m\u001b[0;34m,\u001b[0m \u001b[0mbthreats\u001b[0m \u001b[0;34m=\u001b[0m \u001b[0mself\u001b[0m\u001b[0;34m.\u001b[0m\u001b[0mcount_threats\u001b[0m\u001b[0;34m(\u001b[0m\u001b[0;34m)\u001b[0m\u001b[0;34m\u001b[0m\u001b[0m\n\u001b[0m\u001b[1;32m    570\u001b[0m \u001b[0;34m\u001b[0m\u001b[0m\n\u001b[1;32m    571\u001b[0m         \u001b[0;32mif\u001b[0m \u001b[0mcolor\u001b[0m \u001b[0;34m==\u001b[0m \u001b[0;34m'B'\u001b[0m\u001b[0;34m:\u001b[0m\u001b[0;34m\u001b[0m\u001b[0m\n",
      "\u001b[0;32m/Users/pschale/pythonstuff/chess_ai_project/chess_game.py\u001b[0m in \u001b[0;36mcount_threats\u001b[0;34m(self)\u001b[0m\n\u001b[1;32m    613\u001b[0m \u001b[0;34m\u001b[0m\u001b[0m\n\u001b[1;32m    614\u001b[0m         \u001b[0;32mfor\u001b[0m \u001b[0mp\u001b[0m \u001b[0;32min\u001b[0m \u001b[0mother_white_pieces\u001b[0m\u001b[0;34m:\u001b[0m\u001b[0;34m\u001b[0m\u001b[0m\n\u001b[0;32m--> 615\u001b[0;31m             \u001b[0mmoves\u001b[0m \u001b[0;34m=\u001b[0m \u001b[0mself\u001b[0m\u001b[0;34m.\u001b[0m\u001b[0mfind_threats_from_piece\u001b[0m\u001b[0;34m(\u001b[0m\u001b[0mp\u001b[0m\u001b[0;34m,\u001b[0m \u001b[0;34m'W'\u001b[0m\u001b[0;34m)\u001b[0m\u001b[0;34m\u001b[0m\u001b[0m\n\u001b[0m\u001b[1;32m    616\u001b[0m             \u001b[0;32mfor\u001b[0m \u001b[0mm\u001b[0m \u001b[0;32min\u001b[0m \u001b[0mmoves\u001b[0m\u001b[0;34m:\u001b[0m\u001b[0;34m\u001b[0m\u001b[0m\n\u001b[1;32m    617\u001b[0m                 \u001b[0mwhite_threats\u001b[0m\u001b[0;34m[\u001b[0m\u001b[0mm\u001b[0m\u001b[0;34m[\u001b[0m\u001b[0;36m1\u001b[0m\u001b[0;34m]\u001b[0m\u001b[0;34m]\u001b[0m \u001b[0;34m+=\u001b[0m \u001b[0;36m1\u001b[0m\u001b[0;34m\u001b[0m\u001b[0m\n",
      "\u001b[0;32m/Users/pschale/pythonstuff/chess_ai_project/chess_game.py\u001b[0m in \u001b[0;36mfind_threats_from_piece\u001b[0;34m(self, s, color)\u001b[0m\n\u001b[1;32m    652\u001b[0m         \u001b[0mall_moves\u001b[0m \u001b[0;34m=\u001b[0m \u001b[0;34m[\u001b[0m\u001b[0mele\u001b[0m \u001b[0;32mfor\u001b[0m \u001b[0mele\u001b[0m \u001b[0;32min\u001b[0m \u001b[0mall_moves\u001b[0m \u001b[0;32mif\u001b[0m \u001b[0;32mnot\u001b[0m \u001b[0mele\u001b[0m \u001b[0;34m==\u001b[0m \u001b[0mself\u001b[0m\u001b[0;34m.\u001b[0m\u001b[0mget_kingloc\u001b[0m\u001b[0;34m(\u001b[0m\u001b[0mcolor\u001b[0m\u001b[0;34m)\u001b[0m\u001b[0;34m]\u001b[0m\u001b[0;34m\u001b[0m\u001b[0m\n\u001b[1;32m    653\u001b[0m \u001b[0;34m\u001b[0m\u001b[0m\n\u001b[0;32m--> 654\u001b[0;31m         \u001b[0mlegal_moves\u001b[0m \u001b[0;34m=\u001b[0m \u001b[0;34m[\u001b[0m\u001b[0;34m[\u001b[0m\u001b[0ms\u001b[0m\u001b[0;34m,\u001b[0m \u001b[0mmove\u001b[0m\u001b[0;34m]\u001b[0m \u001b[0;32mfor\u001b[0m \u001b[0mmove\u001b[0m \u001b[0;32min\u001b[0m \u001b[0mall_moves\u001b[0m \u001b[0;32mif\u001b[0m \u001b[0mself\u001b[0m\u001b[0;34m.\u001b[0m\u001b[0mis_legal_move\u001b[0m\u001b[0;34m(\u001b[0m\u001b[0ms\u001b[0m\u001b[0;34m,\u001b[0m \u001b[0mmove\u001b[0m\u001b[0;34m,\u001b[0m \u001b[0mcolor\u001b[0m\u001b[0;34m)\u001b[0m\u001b[0;34m]\u001b[0m\u001b[0;34m\u001b[0m\u001b[0m\n\u001b[0m\u001b[1;32m    655\u001b[0m \u001b[0;34m\u001b[0m\u001b[0m\n\u001b[1;32m    656\u001b[0m         \u001b[0;32mreturn\u001b[0m \u001b[0mlegal_moves\u001b[0m\u001b[0;34m\u001b[0m\u001b[0m\n",
      "\u001b[0;32m/Users/pschale/pythonstuff/chess_ai_project/chess_game.py\u001b[0m in \u001b[0;36m<listcomp>\u001b[0;34m(.0)\u001b[0m\n\u001b[1;32m    652\u001b[0m         \u001b[0mall_moves\u001b[0m \u001b[0;34m=\u001b[0m \u001b[0;34m[\u001b[0m\u001b[0mele\u001b[0m \u001b[0;32mfor\u001b[0m \u001b[0mele\u001b[0m \u001b[0;32min\u001b[0m \u001b[0mall_moves\u001b[0m \u001b[0;32mif\u001b[0m \u001b[0;32mnot\u001b[0m \u001b[0mele\u001b[0m \u001b[0;34m==\u001b[0m \u001b[0mself\u001b[0m\u001b[0;34m.\u001b[0m\u001b[0mget_kingloc\u001b[0m\u001b[0;34m(\u001b[0m\u001b[0mcolor\u001b[0m\u001b[0;34m)\u001b[0m\u001b[0;34m]\u001b[0m\u001b[0;34m\u001b[0m\u001b[0m\n\u001b[1;32m    653\u001b[0m \u001b[0;34m\u001b[0m\u001b[0m\n\u001b[0;32m--> 654\u001b[0;31m         \u001b[0mlegal_moves\u001b[0m \u001b[0;34m=\u001b[0m \u001b[0;34m[\u001b[0m\u001b[0;34m[\u001b[0m\u001b[0ms\u001b[0m\u001b[0;34m,\u001b[0m \u001b[0mmove\u001b[0m\u001b[0;34m]\u001b[0m \u001b[0;32mfor\u001b[0m \u001b[0mmove\u001b[0m \u001b[0;32min\u001b[0m \u001b[0mall_moves\u001b[0m \u001b[0;32mif\u001b[0m \u001b[0mself\u001b[0m\u001b[0;34m.\u001b[0m\u001b[0mis_legal_move\u001b[0m\u001b[0;34m(\u001b[0m\u001b[0ms\u001b[0m\u001b[0;34m,\u001b[0m \u001b[0mmove\u001b[0m\u001b[0;34m,\u001b[0m \u001b[0mcolor\u001b[0m\u001b[0;34m)\u001b[0m\u001b[0;34m]\u001b[0m\u001b[0;34m\u001b[0m\u001b[0m\n\u001b[0m\u001b[1;32m    655\u001b[0m \u001b[0;34m\u001b[0m\u001b[0m\n\u001b[1;32m    656\u001b[0m         \u001b[0;32mreturn\u001b[0m \u001b[0mlegal_moves\u001b[0m\u001b[0;34m\u001b[0m\u001b[0m\n",
      "\u001b[0;32m/Users/pschale/pythonstuff/chess_ai_project/chess_game.py\u001b[0m in \u001b[0;36mis_legal_move\u001b[0;34m(self, startsquare, endsquare, color)\u001b[0m\n\u001b[1;32m    261\u001b[0m             \u001b[0mnewboard\u001b[0m \u001b[0;34m=\u001b[0m \u001b[0mself\u001b[0m\u001b[0;34m.\u001b[0m\u001b[0mcopy\u001b[0m\u001b[0;34m(\u001b[0m\u001b[0;34m)\u001b[0m\u001b[0;34m\u001b[0m\u001b[0m\n\u001b[1;32m    262\u001b[0m             \u001b[0mnewboard\u001b[0m\u001b[0;34m.\u001b[0m\u001b[0mmove_piece\u001b[0m\u001b[0;34m(\u001b[0m\u001b[0mstartsquare\u001b[0m\u001b[0;34m,\u001b[0m \u001b[0mendsquare\u001b[0m\u001b[0;34m,\u001b[0m \u001b[0mcolor\u001b[0m\u001b[0;34m)\u001b[0m\u001b[0;34m\u001b[0m\u001b[0m\n\u001b[0;32m--> 263\u001b[0;31m             \u001b[0;32mreturn\u001b[0m \u001b[0;32mnot\u001b[0m \u001b[0mnewboard\u001b[0m\u001b[0;34m.\u001b[0m\u001b[0mcheck_check\u001b[0m\u001b[0;34m(\u001b[0m\u001b[0mcolor\u001b[0m\u001b[0;34m)\u001b[0m\u001b[0;34m\u001b[0m\u001b[0m\n\u001b[0m\u001b[1;32m    264\u001b[0m \u001b[0;34m\u001b[0m\u001b[0m\n\u001b[1;32m    265\u001b[0m     \u001b[0;31m# finds the MOVES that the piece on the named square can legally make\u001b[0m\u001b[0;34m\u001b[0m\u001b[0;34m\u001b[0m\u001b[0m\n",
      "\u001b[0;32m/Users/pschale/pythonstuff/chess_ai_project/chess_game.py\u001b[0m in \u001b[0;36mcheck_check\u001b[0;34m(self, color)\u001b[0m\n\u001b[1;32m    191\u001b[0m     \u001b[0;32mdef\u001b[0m \u001b[0mcheck_check\u001b[0m\u001b[0;34m(\u001b[0m\u001b[0mself\u001b[0m\u001b[0;34m,\u001b[0m \u001b[0mcolor\u001b[0m\u001b[0;34m)\u001b[0m\u001b[0;34m:\u001b[0m\u001b[0;34m\u001b[0m\u001b[0m\n\u001b[1;32m    192\u001b[0m         \u001b[0;31m#color is the color of the possibly threatened king\u001b[0m\u001b[0;34m\u001b[0m\u001b[0;34m\u001b[0m\u001b[0m\n\u001b[0;32m--> 193\u001b[0;31m         \u001b[0mkingloc\u001b[0m \u001b[0;34m=\u001b[0m \u001b[0mself\u001b[0m\u001b[0;34m.\u001b[0m\u001b[0mget_kingloc\u001b[0m\u001b[0;34m(\u001b[0m\u001b[0mcolor\u001b[0m\u001b[0;34m)\u001b[0m\u001b[0;34m\u001b[0m\u001b[0m\n\u001b[0m\u001b[1;32m    194\u001b[0m         \u001b[0;32massert\u001b[0m \u001b[0mcolor\u001b[0m \u001b[0;32min\u001b[0m \u001b[0;34m[\u001b[0m\u001b[0;34m'W'\u001b[0m\u001b[0;34m,\u001b[0m \u001b[0;34m'B'\u001b[0m\u001b[0;34m]\u001b[0m\u001b[0;34m\u001b[0m\u001b[0m\n\u001b[1;32m    195\u001b[0m         \u001b[0;32mreturn\u001b[0m \u001b[0mself\u001b[0m\u001b[0;34m.\u001b[0m\u001b[0mis_threatened\u001b[0m\u001b[0;34m(\u001b[0m\u001b[0mkingloc\u001b[0m\u001b[0;34m,\u001b[0m \u001b[0mcolor\u001b[0m\u001b[0;34m)\u001b[0m\u001b[0;34m\u001b[0m\u001b[0m\n",
      "\u001b[0;32m/Users/pschale/pythonstuff/chess_ai_project/chess_game.py\u001b[0m in \u001b[0;36mget_kingloc\u001b[0;34m(self, color)\u001b[0m\n\u001b[1;32m    186\u001b[0m     \u001b[0;32mdef\u001b[0m \u001b[0mget_kingloc\u001b[0m\u001b[0;34m(\u001b[0m\u001b[0mself\u001b[0m\u001b[0;34m,\u001b[0m \u001b[0mcolor\u001b[0m\u001b[0;34m)\u001b[0m\u001b[0;34m:\u001b[0m\u001b[0;34m\u001b[0m\u001b[0m\n\u001b[1;32m    187\u001b[0m         \u001b[0mp\u001b[0m \u001b[0;34m=\u001b[0m \u001b[0;34m'K'\u001b[0m \u001b[0;32mif\u001b[0m \u001b[0mcolor\u001b[0m \u001b[0;34m==\u001b[0m \u001b[0;34m'W'\u001b[0m \u001b[0;32melse\u001b[0m \u001b[0;34m'k'\u001b[0m\u001b[0;34m\u001b[0m\u001b[0m\n\u001b[0;32m--> 188\u001b[0;31m         \u001b[0mkingloc\u001b[0m \u001b[0;34m=\u001b[0m \u001b[0mnp\u001b[0m\u001b[0;34m.\u001b[0m\u001b[0mwhere\u001b[0m\u001b[0;34m(\u001b[0m\u001b[0mself\u001b[0m\u001b[0;34m.\u001b[0m\u001b[0mboard\u001b[0m \u001b[0;34m==\u001b[0m \u001b[0mp\u001b[0m\u001b[0;34m)\u001b[0m\u001b[0;34m\u001b[0m\u001b[0m\n\u001b[0m\u001b[1;32m    189\u001b[0m         \u001b[0;32mreturn\u001b[0m \u001b[0;34m(\u001b[0m\u001b[0mkingloc\u001b[0m\u001b[0;34m[\u001b[0m\u001b[0;36m0\u001b[0m\u001b[0;34m]\u001b[0m\u001b[0;34m[\u001b[0m\u001b[0;36m0\u001b[0m\u001b[0;34m]\u001b[0m\u001b[0;34m,\u001b[0m \u001b[0mkingloc\u001b[0m\u001b[0;34m[\u001b[0m\u001b[0;36m1\u001b[0m\u001b[0;34m]\u001b[0m\u001b[0;34m[\u001b[0m\u001b[0;36m0\u001b[0m\u001b[0;34m]\u001b[0m\u001b[0;34m)\u001b[0m\u001b[0;34m\u001b[0m\u001b[0m\n\u001b[1;32m    190\u001b[0m \u001b[0;34m\u001b[0m\u001b[0m\n",
      "\u001b[0;31mKeyboardInterrupt\u001b[0m: "
     ]
    }
   ],
   "source": [
    "# training loop\n",
    "for j in range(100):\n",
    "    all_games = np.empty((0,4))\n",
    "\n",
    "    print('Playing games...')\n",
    "    for gamenum in range(0, 50):\n",
    "        print(gamenum)\n",
    "        a = cg.game_board()\n",
    "        b = a.copy()\n",
    "        board_positions_ar = np.empty((0, 8, 8, 10))\n",
    "        aux_ar = np.empty((0,6))\n",
    "        move_info = np.empty((0,2))\n",
    "        score = None\n",
    "        for i in range(60): #do first 30 moves for each side\n",
    "            #startingtime  = time.time()\n",
    "            a = get_next_board(a, sess)\n",
    "            color = 'W' if a.white_tomove else 'B'\n",
    "            nextboard_inputs = a.get_NN_inputs(color)\n",
    "            board_positions_ar = np.append(board_positions_ar, [nextboard_inputs[0]], axis=0)\n",
    "            move_info = np.append(move_info, np.array([[gamenum, i]]), axis=0)\n",
    "            aux_ar = np.append(aux_ar, [nextboard_inputs[1]], axis=0)\n",
    "            game_end = a.game_over()\n",
    "            \n",
    "            #print(time.time() - startingtime)\n",
    "\n",
    "            if game_end[0]:\n",
    "                score = game_end[0]\n",
    "                break\n",
    "\n",
    "        if score:\n",
    "            score = int((-2)*score + 2)\n",
    "        else:\n",
    "            material = a.to_csv_format()[-2:]\n",
    "            if material[0] > material[1]:\n",
    "                score = 0\n",
    "            elif material[1] > material[0]:\n",
    "                score = 2\n",
    "            else:\n",
    "                score = 1\n",
    "\n",
    "        score_onehot = np.zeros((board_positions_ar.shape[0],3))\n",
    "        score_onehot[:,score] = move_info[:,0]/move_info[:,0].size\n",
    "\n",
    "        game_array = np.array([board_positions_ar, \n",
    "                               aux_ar, \n",
    "                               score_onehot, \n",
    "                               move_info, np.array([])])[:4] #adding empty array then cutting it off\n",
    "                                                             # is done because otherwise numpy errors out\n",
    "        xp = np.array([[game_array[j][i] for j in range(4)] for i in range(i)])\n",
    "\n",
    "        all_games = np.append(all_games, xp, axis=0)\n",
    "\n",
    "    print(\"Training...\")\n",
    "    for epoch in range(1):  # 1 epochs\n",
    "        for i in range(61):\n",
    "            boards_selected = all_games[np.random.choice(range(all_games.shape[0]), 100), :]\n",
    "            batch_board = np.stack(boards_selected[:, 0])\n",
    "            batch_aux = np.stack(boards_selected[:, 1])\n",
    "            batch_ys = np.stack(boards_selected[:, 2])\n",
    "            \n",
    "            if i % 20 == 0:\n",
    "                batch_ys = np.stack(boards_selected[:, 3])\n",
    "                cost = sess.run(loss, feed_dict={board: batch_board, \n",
    "                                              aux: batch_aux, \n",
    "                                              Y: batch_ys})\n",
    "                #acc = sess.run(percent_correct,feed_dict={board: batch_board, \n",
    "                #                              aux: batch_aux, \n",
    "                #                              wthreats: batch_wthreats, \n",
    "                #                              bthreats: batch_bthreats,\n",
    "                #                              Y: batch_ys})\n",
    "                print(\"Epoch:\", '%03d' % (epoch + 1), \"Step:\", '%03d' % i,\n",
    "                      \"Loss:\", str(cost))#, \"accuracy: \", str(acc))\n",
    "                \n",
    "            sess.run(optimizer, feed_dict={board: batch_board, \n",
    "                                          aux: batch_aux, \n",
    "                                          Y: batch_ys})\n",
    "     "
   ]
  },
  {
   "cell_type": "code",
   "execution_count": 25,
   "metadata": {},
   "outputs": [
    {
     "name": "stdout",
     "output_type": "stream",
     "text": [
      "Training...\n",
      "Epoch: 001 Step: 000 Loss: 0.48254788\n",
      "Epoch: 001 Step: 020 Loss: 0.4308658\n",
      "Epoch: 001 Step: 040 Loss: 0.40842965\n",
      "Epoch: 001 Step: 060 Loss: 0.41347954\n"
     ]
    }
   ],
   "source": [
    "print(\"Training...\")\n",
    "for epoch in range(1):  # 1 epochs\n",
    "    for i in range(61):\n",
    "        boards_selected = all_games[np.random.choice(range(all_games.shape[0]), 100), :]\n",
    "        batch_board = np.stack(boards_selected[:, 0])\n",
    "        batch_aux = np.stack(boards_selected[:, 1])\n",
    "        #batch_ys = np.stack(boards_selected[:, 2])\n",
    "\n",
    "        if i % 20 == 0:\n",
    "            batch_ys = np.stack(boards_selected[:, 2])\n",
    "            cost = sess.run(loss, feed_dict={board: batch_board, \n",
    "                                          aux: batch_aux, \n",
    "                                          Y: batch_ys})\n",
    "            #acc = sess.run(percent_correct,feed_dict={board: batch_board, \n",
    "            #                              aux: batch_aux, \n",
    "            #                              wthreats: batch_wthreats, \n",
    "            #                              bthreats: batch_bthreats,\n",
    "            #                              Y: batch_ys})\n",
    "            print(\"Epoch:\", '%03d' % (epoch + 1), \"Step:\", '%03d' % i,\n",
    "                  \"Loss:\", str(cost))#, \"accuracy: \", str(acc))\n",
    "\n",
    "        sess.run(optimizer, feed_dict={board: batch_board, \n",
    "                                      aux: batch_aux, \n",
    "                                      Y: batch_ys})"
   ]
  },
  {
   "cell_type": "code",
   "execution_count": 24,
   "metadata": {},
   "outputs": [
    {
     "data": {
      "text/plain": [
       "(100, 3)"
      ]
     },
     "execution_count": 24,
     "metadata": {},
     "output_type": "execute_result"
    }
   ],
   "source": [
    "np.stack(boards_selected[:, 2]).shape"
   ]
  },
  {
   "cell_type": "code",
   "execution_count": null,
   "metadata": {
    "collapsed": true
   },
   "outputs": [],
   "source": []
  },
  {
   "cell_type": "code",
   "execution_count": null,
   "metadata": {
    "collapsed": true
   },
   "outputs": [],
   "source": []
  },
  {
   "cell_type": "code",
   "execution_count": null,
   "metadata": {},
   "outputs": [],
   "source": [
    "saver = tf.train.Saver()\n",
    "saver.save(sess, '/Users/pschale/pythonstuff/chess_ai_project/bigger_saved_CNN')"
   ]
  },
  {
   "cell_type": "code",
   "execution_count": null,
   "metadata": {},
   "outputs": [],
   "source": [
    "np.reshape(board_positions_ar[0,:,:], (8,8,8))"
   ]
  },
  {
   "cell_type": "code",
   "execution_count": null,
   "metadata": {},
   "outputs": [],
   "source": [
    "def un_onehot(board_ar):\n",
    "    board = np.empty((8,8),dtype='str')\n",
    "    board_ar = np.reshape(board_ar, (8,8,8))\n",
    "    board[:, :] = \" \"\n",
    "    board[np.logical_and(board_ar[:,:,2]==1, board_ar[:,:,0] == 1)] = \"K\"\n",
    "    board[np.logical_and(board_ar[:,:,3]==1, board_ar[:,:,0] == 1)] = \"Q\"\n",
    "    board[np.logical_and(board_ar[:,:,4]==1, board_ar[:,:,0] == 1)] = \"R\"\n",
    "    board[np.logical_and(board_ar[:,:,5]==1, board_ar[:,:,0] == 1)] = \"B\"\n",
    "    board[np.logical_and(board_ar[:,:,6]==1, board_ar[:,:,0] == 1)] = \"N\"\n",
    "    board[np.logical_and(board_ar[:,:,7]==1, board_ar[:,:,0] == 1)] = \"P\"\n",
    "    \n",
    "    board[np.logical_and(board_ar[:,:,2]==1, board_ar[:,:,1] == 1)] = \"k\"\n",
    "    board[np.logical_and(board_ar[:,:,3]==1, board_ar[:,:,1] == 1)] = \"q\"\n",
    "    board[np.logical_and(board_ar[:,:,4]==1, board_ar[:,:,1] == 1)] = \"r\"\n",
    "    board[np.logical_and(board_ar[:,:,5]==1, board_ar[:,:,1] == 1)] = \"b\"\n",
    "    board[np.logical_and(board_ar[:,:,6]==1, board_ar[:,:,1] == 1)] = \"n\"\n",
    "    board[np.logical_and(board_ar[:,:,7]==1, board_ar[:,:,1] == 1)] = \"p\"\n",
    "    \n",
    "    a = cg.game_board()\n",
    "    a.board = board\n",
    "    return a"
   ]
  },
  {
   "cell_type": "code",
   "execution_count": null,
   "metadata": {},
   "outputs": [],
   "source": [
    "f = un_onehot(board_positions_ar[-1,:,:])\n",
    "print(f.white_tomove)\n",
    "print(f.check_check('W'))\n",
    "print(f)\n",
    "f.find_all_next_board_positions()[0].find_threats_from_piece('K', 'W')"
   ]
  },
  {
   "cell_type": "code",
   "execution_count": null,
   "metadata": {
    "collapsed": true
   },
   "outputs": [],
   "source": [
    "def evaluate_board(sess, bp):\n",
    "    bp_board, bp_aux = bp.get_NN_inputs()\n",
    "    bp_wthreats, bp_bthreats = bp.count_threats()\n",
    "    ev = sess.run(net, feed_dict={board: [bp_board], \n",
    "                                          aux: [bp_aux], \n",
    "                                          wthreats: [bp_wthreats], \n",
    "                                          bthreats: [bp_bthreats]})\n",
    "    print(bp)\n",
    "    print(ev)"
   ]
  },
  {
   "cell_type": "code",
   "execution_count": null,
   "metadata": {},
   "outputs": [],
   "source": [
    "testbs = pd.read_csv('test_board_positions.csv',index_col=None)"
   ]
  },
  {
   "cell_type": "code",
   "execution_count": null,
   "metadata": {},
   "outputs": [],
   "source": [
    "gnum = 1\n",
    "tb = cg.game_board(gametype='saved', csvstr=testbs.as_matrix()[gnum,1:])\n",
    "evaluate_board(sess, tb)\n",
    "testbs['winner'][gnum]"
   ]
  },
  {
   "cell_type": "code",
   "execution_count": null,
   "metadata": {},
   "outputs": [],
   "source": [
    "print(tb)"
   ]
  },
  {
   "cell_type": "code",
   "execution_count": null,
   "metadata": {
    "collapsed": true
   },
   "outputs": [],
   "source": []
  },
  {
   "cell_type": "code",
   "execution_count": null,
   "metadata": {},
   "outputs": [],
   "source": [
    "evaluate_board(sess, tb)"
   ]
  },
  {
   "cell_type": "code",
   "execution_count": null,
   "metadata": {},
   "outputs": [],
   "source": [
    "a = get_next_board(a, sess)\n",
    "print(a)"
   ]
  },
  {
   "cell_type": "code",
   "execution_count": null,
   "metadata": {},
   "outputs": [],
   "source": [
    "a = get_next_board(a, sess)\n",
    "print(a)"
   ]
  },
  {
   "cell_type": "code",
   "execution_count": null,
   "metadata": {},
   "outputs": [],
   "source": [
    "a = get_next_board(a, sess)\n",
    "print(a)"
   ]
  },
  {
   "cell_type": "code",
   "execution_count": null,
   "metadata": {},
   "outputs": [],
   "source": [
    "a = get_next_board(a, sess)\n",
    "print(a)"
   ]
  },
  {
   "cell_type": "code",
   "execution_count": null,
   "metadata": {},
   "outputs": [],
   "source": [
    "a = get_next_board(a, sess)\n",
    "print(a)"
   ]
  },
  {
   "cell_type": "code",
   "execution_count": null,
   "metadata": {},
   "outputs": [],
   "source": [
    "a = get_next_board(a, sess)\n",
    "print(a)"
   ]
  },
  {
   "cell_type": "code",
   "execution_count": null,
   "metadata": {},
   "outputs": [],
   "source": [
    "a = get_next_board(a, sess)\n",
    "print(a)"
   ]
  },
  {
   "cell_type": "code",
   "execution_count": null,
   "metadata": {
    "collapsed": true
   },
   "outputs": [],
   "source": []
  },
  {
   "cell_type": "code",
   "execution_count": null,
   "metadata": {
    "collapsed": true
   },
   "outputs": [],
   "source": []
  },
  {
   "cell_type": "code",
   "execution_count": null,
   "metadata": {
    "collapsed": true
   },
   "outputs": [],
   "source": []
  },
  {
   "cell_type": "code",
   "execution_count": null,
   "metadata": {
    "collapsed": true
   },
   "outputs": [],
   "source": []
  },
  {
   "cell_type": "code",
   "execution_count": null,
   "metadata": {},
   "outputs": [],
   "source": [
    "# plays a game and saves the game to a numpy file\n",
    "# the format it's saved in probably isn't ideal for training\n",
    "# to avoid getting stuck in dumb loops, this randomly picks from the top 5 moves\n",
    "\n",
    "all_games = np.empty((0,4))\n",
    "\n",
    "for gamenum in range(0, 10):\n",
    "    print(gamenum)\n",
    "    a = cg.game_board()\n",
    "    b = a.copy()\n",
    "    board_positions_ar = np.empty((0, 64, 8))\n",
    "    aux_ar = np.empty((0,7))\n",
    "    move_info = np.empty((0,2))\n",
    "    score = None\n",
    "    for i in range(30): #do first 10 moves for each side\n",
    "        next_boards = a.find_all_next_board_positions()\n",
    "        next_inputs = [ele.get_NN_inputs() for ele in next_boards]\n",
    "        batch_board = np.array([ele[0] for ele in next_inputs])\n",
    "        batch_aux = np.array([ele[1] for ele in next_inputs])\n",
    "        evaluation = sess.run(net, feed_dict={board: batch_board, aux: batch_aux})\n",
    "        #chosen_movenum = np.argmax(evaluation, 0)[-2*(int(a.white_tomove) - 1)]\n",
    "        chosen_movenum = np.random.choice(np.argsort(evaluation[:, -2*(int(a.white_tomove) - 1)])[:5])\n",
    "        a = next_boards[chosen_movenum]\n",
    "\n",
    "        nextboard_inputs = a.get_NN_inputs()\n",
    "        board_positions_ar = np.append(board_positions_ar, [nextboard_inputs[0]], axis=0)\n",
    "        move_info = np.append(move_info, np.array([[gamenum, i]]), axis=0)\n",
    "        aux_ar = np.append(aux_ar, [nextboard_inputs[1]], axis=0)\n",
    "        game_end = a.game_over()\n",
    "        c = b.copy()\n",
    "        b = a.copy()\n",
    "        if game_end[0]:\n",
    "            score = game_end[0]\n",
    "            break\n",
    "\n",
    "    if score:\n",
    "        score = int((-2)*score + 2)\n",
    "    else:\n",
    "        material = a.to_csv_format()[-2:]\n",
    "        if material[0] > material[1]:\n",
    "            score = 0\n",
    "        elif material[1] > material[0]:\n",
    "            score = 2\n",
    "        else:\n",
    "            score = 1\n",
    "\n",
    "    score_onehot = np.zeros((board_positions_ar.shape[0],3))\n",
    "    score_onehot[:,score] = 1\n",
    "\n",
    "    game_array = np.array([board_positions_ar, aux_ar, score_onehot, move_info, np.array([])])[:4]\n",
    "    xp = np.array([[game_array[0][i], game_array[1][i], game_array[2][i], game_array[3][i]] for i in range(i)])\n",
    "\n",
    "    all_games = np.append(all_games, xp, axis=0)\n",
    "\n",
    "#print(a)\n",
    "\n",
    "np.save('ai_games/ai_game_3', all_games)"
   ]
  },
  {
   "cell_type": "code",
   "execution_count": null,
   "metadata": {},
   "outputs": [],
   "source": [
    "b.check_check('B')"
   ]
  },
  {
   "cell_type": "code",
   "execution_count": null,
   "metadata": {},
   "outputs": [],
   "source": [
    "[print(ele) for ele in c.find_all_next_board_positions()]"
   ]
  },
  {
   "cell_type": "code",
   "execution_count": null,
   "metadata": {},
   "outputs": [],
   "source": [
    "c.find_all_legal_moves()"
   ]
  },
  {
   "cell_type": "code",
   "execution_count": null,
   "metadata": {},
   "outputs": [],
   "source": [
    "# starting session and loading variables\n",
    "#saver = tf.train.Saver()\n",
    "\n",
    "#sess = tf.Session()\n",
    "#saver.restore(sess, \"/Users/pschale/pythonstuff/chess_ai_project/test_saved_CNN\")\n",
    "#saver.restore(sess, \"./test_saved_CNN\")"
   ]
  },
  {
   "cell_type": "code",
   "execution_count": null,
   "metadata": {},
   "outputs": [],
   "source": [
    "all_games = np.empty((0,4))\n",
    "all_games = np.append(all_games, xp, axis=0)\n",
    "\n"
   ]
  },
  {
   "cell_type": "code",
   "execution_count": null,
   "metadata": {},
   "outputs": [],
   "source": [
    "all_games.shape"
   ]
  },
  {
   "cell_type": "code",
   "execution_count": null,
   "metadata": {},
   "outputs": [],
   "source": [
    "for epoch in range(3):  # 2 epochs\n",
    "    for i in range(1):\n",
    "        boards_selected = all_games[np.random.choice(range(all_games.shape[0]), 100), :]\n",
    "        batch_board = np.stack(boards_selected[:, 0])\n",
    "        batch_aux = np.stack(boards_selected[:, 1])\n",
    "        batch_ys = np.stack(boards_selected[:, 2])\n",
    "        t = time.time()\n",
    "        sess.run(optimizer, feed_dict={board: batch_board, aux: batch_aux, Y: batch_ys})\n",
    "        cost = sess.run(loss, feed_dict={board: batch_board, aux: batch_aux, Y: batch_ys})\n",
    "        print(time.time() - t)\n",
    "        if i % 20 == 0:\n",
    "            print(\"Epoch:\", '%03d' % (epoch + 1), \"Step:\", '%03d' % i,\n",
    "                  \"Loss:\", str(cost))"
   ]
  },
  {
   "cell_type": "code",
   "execution_count": null,
   "metadata": {
    "collapsed": true
   },
   "outputs": [],
   "source": [
    "np.save('ai_games/ai_game_1', all_games)"
   ]
  },
  {
   "cell_type": "code",
   "execution_count": null,
   "metadata": {},
   "outputs": [],
   "source": [
    "all_games.shape"
   ]
  },
  {
   "cell_type": "code",
   "execution_count": null,
   "metadata": {
    "collapsed": true
   },
   "outputs": [],
   "source": []
  }
 ],
 "metadata": {
  "kernelspec": {
   "display_name": "Python [conda env:tf]",
   "language": "python",
   "name": "conda-env-tf-py"
  },
  "language_info": {
   "codemirror_mode": {
    "name": "ipython",
    "version": 3
   },
   "file_extension": ".py",
   "mimetype": "text/x-python",
   "name": "python",
   "nbconvert_exporter": "python",
   "pygments_lexer": "ipython3",
   "version": "3.5.2"
  }
 },
 "nbformat": 4,
 "nbformat_minor": 2
}
