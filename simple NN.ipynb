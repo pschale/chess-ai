{
 "cells": [
  {
   "cell_type": "code",
   "execution_count": 1,
   "metadata": {},
   "outputs": [
    {
     "name": "stderr",
     "output_type": "stream",
     "text": [
      "/Users/pschale/anaconda/envs/tf/lib/python3.5/importlib/_bootstrap.py:222: RuntimeWarning: compiletime version 3.6 of module 'tensorflow.python.framework.fast_tensor_util' does not match runtime version 3.5\n",
      "  return f(*args, **kwds)\n"
     ]
    },
    {
     "name": "stdout",
     "output_type": "stream",
     "text": [
      "WARNING:tensorflow:From /Users/pschale/anaconda/envs/tf/lib/python3.5/site-packages/tensorflow/contrib/learn/python/learn/datasets/base.py:198: retry (from tensorflow.contrib.learn.python.learn.datasets.base) is deprecated and will be removed in a future version.\n",
      "Instructions for updating:\n",
      "Use the retry module or similar alternatives.\n"
     ]
    }
   ],
   "source": [
    "import tflearn\n",
    "import tensorflow as tf\n",
    "import pandas as pd\n",
    "import numpy as np\n",
    "from sklearn import preprocessing\n",
    "import chess_game as cg\n",
    "import time"
   ]
  },
  {
   "cell_type": "code",
   "execution_count": 2,
   "metadata": {},
   "outputs": [
    {
     "name": "stdout",
     "output_type": "stream",
     "text": [
      "WARNING:tensorflow:From /Users/pschale/anaconda/envs/tf/lib/python3.5/site-packages/tflearn/initializations.py:119: UniformUnitScaling.__init__ (from tensorflow.python.ops.init_ops) is deprecated and will be removed in a future version.\n",
      "Instructions for updating:\n",
      "Use tf.initializers.variance_scaling instead with distribution=uniform to get equivalent behavior.\n"
     ]
    }
   ],
   "source": [
    "board = tflearn.layers.core.input_data(shape=(None, 64, 8), name='board_input')\n",
    "aux = tflearn.layers.core.input_data(shape=(None, 7), name='aux_input')\n",
    "Y = tflearn.layers.core.input_data(shape=(None, 3), name='labels')\n",
    "\n",
    "board_input_reshaped = tf.reshape(board, [-1, 8, 8, 8])\n",
    "\n",
    "conv4 = tflearn.conv_2d(board_input_reshaped, 32, 4, activation='relu')\n",
    "\n",
    "\n",
    "conv2 = tflearn.conv_2d(board_input_reshaped, 32, 2, activation='relu')\n",
    "conv2_4 = tflearn.conv_2d(conv2, 64, 4, activation='relu')\n",
    "# note: this is how to get separate branches of a larger NN and then have them converge\n",
    "fc1 = tflearn.layers.core.fully_connected(tf.concat([conv4, conv2_4], 3), n_units=1000, activation='relu')\n",
    "\n",
    "fc2 = tflearn.layers.core.fully_connected(tf.concat([fc1, aux], 1), n_units=2000, activation='relu')\n",
    "\n",
    "net = tflearn.layers.core.fully_connected(fc2, n_units=3, activation='softmax')\n",
    "\n",
    "loss = tf.reduce_mean(tf.nn.softmax_cross_entropy_with_logits_v2(logits=net, labels=Y))\n",
    "optimizer = tf.train.AdamOptimizer(learning_rate=0.00001).minimize(loss)\n",
    "\n",
    "init = tf.global_variables_initializer()\n",
    "#net = tflearn.regression(net, optimizer='adam', metric=loss,\n",
    "#                         loss='categorical_crossentropy')\n",
    "#model = tflearn.DNN(net, tensorboard_verbose=0)\n"
   ]
  },
  {
   "cell_type": "code",
   "execution_count": 3,
   "metadata": {
    "collapsed": true
   },
   "outputs": [],
   "source": [
    "a = pd.read_csv('board_positions/board_positions_1.csv')\n",
    "a = a[~a.isnull().any(axis=1)]\n",
    "a = a[a['moves_in_game'] - a['move_num']<10]\n",
    "le = preprocessing.LabelEncoder()\n",
    "le.fit(['k', 'q', 'r', 'b', 'n', 'p', ' ', 'P', 'N', 'B', 'R', 'Q', 'K'])\n",
    "\n",
    "bcols = a.columns[:64]\n",
    "\n",
    "a[bcols] = le.transform(a[bcols])\n",
    "    "
   ]
  },
  {
   "cell_type": "code",
   "execution_count": 4,
   "metadata": {
    "collapsed": true
   },
   "outputs": [],
   "source": [
    "def get_training_data(data):\n",
    "    \n",
    "    d = data.sample(100)\n",
    "    train = d[d.columns[:71]]\n",
    "    board = train[train.columns[:64]]\n",
    "    aux = train[train.columns[64:]]\n",
    "    board_onehot = np.zeros((100, 64, 8))\n",
    "    board_onehot[:, :, 0] = board.isin([7, 8, 9, 10, 11, 12])\n",
    "    board_onehot[:, :, 1] = board.isin([0, 1, 2, 3, 4, 5])\n",
    "    board_onehot[:, :, 2] = board.isin([0, 12])\n",
    "    board_onehot[:, :, 3] = board.isin([1, 11])\n",
    "    board_onehot[:, :, 4] = board.isin([2, 10])\n",
    "    board_onehot[:, :, 5] = board.isin([3, 9])\n",
    "    board_onehot[:, :, 6] = board.isin([4, 8])\n",
    "    board_onehot[:, :, 7] = board.isin([5, 7])\n",
    "    labels = np.zeros((100,3))\n",
    "    labels[d['winner']==-1, 0] = 1\n",
    "    labels[d['winner']==0, 1] = 1\n",
    "    labels[d['winner']==1, 2] = 1\n",
    "    \n",
    "    return board_onehot, aux, labels\n",
    "    "
   ]
  },
  {
   "cell_type": "code",
   "execution_count": 5,
   "metadata": {
    "scrolled": true
   },
   "outputs": [
    {
     "name": "stdout",
     "output_type": "stream",
     "text": [
      "Epoch: 001 Step: 000 Loss: 1.0769849\n",
      "Epoch: 001 Step: 020 Loss: 1.010529\n",
      "Epoch: 001 Step: 040 Loss: 1.0150131\n",
      "Epoch: 001 Step: 060 Loss: 0.99164337\n",
      "Epoch: 001 Step: 080 Loss: 0.99367905\n",
      "Epoch: 001 Step: 100 Loss: 0.98514915\n",
      "Epoch: 001 Step: 120 Loss: 0.9774544\n",
      "Epoch: 001 Step: 140 Loss: 1.0172251\n",
      "Epoch: 001 Step: 160 Loss: 0.96030855\n",
      "Epoch: 001 Step: 180 Loss: 0.9511741\n",
      "Epoch: 002 Step: 000 Loss: 0.9727736\n",
      "Epoch: 002 Step: 020 Loss: 0.9679552\n",
      "Epoch: 002 Step: 040 Loss: 0.9913797\n",
      "Epoch: 002 Step: 060 Loss: 0.9046955\n",
      "Epoch: 002 Step: 080 Loss: 0.9158521\n",
      "Epoch: 002 Step: 100 Loss: 0.9149568\n",
      "Epoch: 002 Step: 120 Loss: 0.90831405\n",
      "Epoch: 002 Step: 140 Loss: 0.9117123\n",
      "Epoch: 002 Step: 160 Loss: 0.90922034\n",
      "Epoch: 002 Step: 180 Loss: 0.85467756\n"
     ]
    }
   ],
   "source": [
    "saver = tf.train.Saver()\n",
    "\n",
    "sess = tf.Session()\n",
    "sess.run(init)\n",
    "\n",
    "for epoch in range(2):  # 2 epochs\n",
    "    for i in range(200):\n",
    "        batch_board, batch_aux, batch_ys = get_training_data(a)\n",
    "        sess.run(optimizer, feed_dict={board: batch_board, aux: batch_aux, Y: batch_ys})\n",
    "        cost = sess.run(loss, feed_dict={board: batch_board, aux: batch_aux, Y: batch_ys})\n",
    "\n",
    "        if i % 20 == 0:\n",
    "            print(\"Epoch:\", '%03d' % (epoch + 1), \"Step:\", '%03d' % i,\n",
    "                  \"Loss:\", str(cost))"
   ]
  },
  {
   "cell_type": "code",
   "execution_count": 6,
   "metadata": {},
   "outputs": [
    {
     "data": {
      "text/plain": [
       "array([[6.7206049e-01, 6.8570431e-03, 3.2108244e-01],\n",
       "       [5.3206545e-01, 5.6696110e-03, 4.6226490e-01],\n",
       "       [1.3792847e-01, 2.1227296e-04, 8.6185926e-01],\n",
       "       [7.1345377e-01, 5.9932529e-04, 2.8594694e-01],\n",
       "       [8.1638682e-01, 3.1134982e-03, 1.8049967e-01],\n",
       "       [4.5088416e-01, 1.5573296e-03, 5.4755855e-01],\n",
       "       [3.1909996e-01, 4.5476327e-04, 6.8044531e-01],\n",
       "       [5.5451572e-01, 5.5723463e-04, 4.4492704e-01],\n",
       "       [5.8062738e-01, 1.3117355e-03, 4.1806096e-01],\n",
       "       [5.7681906e-01, 4.8390054e-04, 4.2269704e-01],\n",
       "       [3.5568425e-01, 3.8733560e-04, 6.4392841e-01],\n",
       "       [6.6698152e-01, 8.1793760e-04, 3.3220059e-01],\n",
       "       [5.4320943e-01, 1.9756102e-03, 4.5481497e-01],\n",
       "       [5.6778640e-01, 1.5958974e-03, 4.3061772e-01],\n",
       "       [1.2550253e-01, 3.4418155e-04, 8.7415332e-01],\n",
       "       [9.9495433e-02, 2.0787208e-03, 8.9842588e-01],\n",
       "       [4.8005071e-01, 1.9445553e-03, 5.1800466e-01],\n",
       "       [9.2297308e-02, 5.1655236e-04, 9.0718615e-01],\n",
       "       [7.4250311e-01, 1.1643681e-03, 2.5633246e-01],\n",
       "       [3.9034101e-01, 3.6757437e-03, 6.0598326e-01],\n",
       "       [1.9063279e-01, 3.8666034e-04, 8.0898064e-01],\n",
       "       [7.0059198e-01, 9.5741119e-04, 2.9845062e-01],\n",
       "       [5.2911770e-01, 7.5508276e-04, 4.7012722e-01],\n",
       "       [5.1168847e-01, 1.2196249e-03, 4.8709193e-01],\n",
       "       [2.8151977e-01, 6.9524272e-04, 7.1778500e-01],\n",
       "       [7.7121508e-01, 6.2511920e-04, 2.2815980e-01],\n",
       "       [5.7271481e-01, 2.7320100e-04, 4.2701200e-01],\n",
       "       [2.7056256e-01, 2.4497712e-03, 7.2698772e-01],\n",
       "       [1.4304957e-01, 2.5392859e-04, 8.5669655e-01],\n",
       "       [3.0378386e-01, 2.6147298e-03, 6.9360137e-01],\n",
       "       [9.3573874e-01, 1.9360002e-04, 6.4067632e-02],\n",
       "       [5.9724534e-01, 2.6816640e-03, 4.0007308e-01],\n",
       "       [1.2800027e-01, 5.4054572e-03, 8.6659425e-01],\n",
       "       [2.6757631e-01, 3.6120694e-04, 7.3206246e-01],\n",
       "       [2.9775637e-01, 1.0001027e-03, 7.0124352e-01],\n",
       "       [9.5473552e-01, 1.4329405e-04, 4.5121152e-02],\n",
       "       [4.8937860e-01, 8.2880212e-04, 5.0979257e-01],\n",
       "       [1.2967274e-01, 7.8949239e-04, 8.6953777e-01],\n",
       "       [4.7095928e-01, 2.9146648e-03, 5.2612603e-01],\n",
       "       [3.3393866e-01, 1.0429379e-03, 6.6501844e-01],\n",
       "       [5.1461583e-01, 4.6928052e-04, 4.8491478e-01],\n",
       "       [9.0302363e-02, 1.4770929e-04, 9.0954995e-01],\n",
       "       [9.7261339e-02, 1.7622071e-04, 9.0256250e-01],\n",
       "       [2.1197872e-01, 3.2636144e-03, 7.8475767e-01],\n",
       "       [1.6978434e-01, 4.0882904e-04, 8.2980686e-01],\n",
       "       [6.8283242e-01, 7.8648897e-03, 3.0930269e-01],\n",
       "       [1.0642405e-01, 2.2990759e-04, 8.9334607e-01],\n",
       "       [7.8665817e-01, 1.3776370e-03, 2.1196419e-01],\n",
       "       [7.8537762e-01, 3.6833116e-03, 2.1093915e-01],\n",
       "       [4.5059583e-01, 8.6495199e-04, 5.4853928e-01],\n",
       "       [7.2262359e-01, 1.4872145e-03, 2.7588919e-01],\n",
       "       [5.1893651e-01, 2.3938592e-03, 4.7866955e-01],\n",
       "       [4.4784600e-01, 1.0854480e-03, 5.5106854e-01],\n",
       "       [1.5720876e-01, 1.7766669e-04, 8.4261364e-01],\n",
       "       [2.7418748e-01, 4.9256911e-03, 7.2088689e-01],\n",
       "       [3.9794618e-01, 5.5740046e-04, 6.0149646e-01],\n",
       "       [2.2983430e-01, 5.9182788e-03, 7.6424748e-01],\n",
       "       [1.3009611e-02, 2.1465980e-04, 9.8677570e-01],\n",
       "       [6.0360163e-01, 2.2968334e-04, 3.9616865e-01],\n",
       "       [1.9410495e-01, 2.0834400e-04, 8.0568671e-01],\n",
       "       [4.0632850e-01, 2.8797050e-04, 5.9338355e-01],\n",
       "       [3.4444848e-01, 6.5690298e-03, 6.4898241e-01],\n",
       "       [2.0007813e-01, 1.8026530e-03, 7.9811919e-01],\n",
       "       [4.9820516e-02, 8.4843393e-04, 9.4933105e-01],\n",
       "       [2.7052164e-01, 6.1704841e-04, 7.2886133e-01],\n",
       "       [5.9291941e-01, 2.5977427e-04, 4.0682092e-01],\n",
       "       [5.1101726e-01, 1.4206305e-03, 4.8756212e-01],\n",
       "       [2.9714379e-01, 8.5602637e-04, 7.0200020e-01],\n",
       "       [3.3171035e-02, 2.7611569e-04, 9.6655285e-01],\n",
       "       [4.9551293e-01, 2.3373931e-03, 5.0214970e-01],\n",
       "       [7.1445513e-01, 5.6197395e-04, 2.8498292e-01],\n",
       "       [1.1709457e-01, 1.2828425e-03, 8.8162255e-01],\n",
       "       [9.7480178e-02, 9.9124410e-04, 9.0152860e-01],\n",
       "       [5.5880719e-01, 1.6865705e-03, 4.3950626e-01],\n",
       "       [5.9716982e-01, 6.8234449e-04, 4.0214780e-01],\n",
       "       [5.1941550e-01, 4.0696375e-04, 4.8017746e-01],\n",
       "       [3.8434762e-01, 4.0907523e-04, 6.1524338e-01],\n",
       "       [5.5149347e-01, 6.6665737e-03, 4.4183996e-01],\n",
       "       [6.0869455e-01, 1.8189487e-03, 3.8948649e-01],\n",
       "       [1.7006089e-01, 4.6029972e-04, 8.2947880e-01],\n",
       "       [4.1127047e-01, 4.8770308e-03, 5.8385259e-01],\n",
       "       [1.7574386e-01, 5.3552515e-04, 8.2372063e-01],\n",
       "       [3.8767636e-01, 7.0558647e-03, 6.0526776e-01],\n",
       "       [4.7556213e-01, 3.3361784e-03, 5.2110171e-01],\n",
       "       [6.6297162e-01, 4.6726526e-04, 3.3656117e-01],\n",
       "       [5.4149789e-01, 5.3345435e-04, 4.5796865e-01],\n",
       "       [8.1430348e-03, 6.4879563e-04, 9.9120820e-01],\n",
       "       [2.3651566e-01, 1.3290026e-03, 7.6215535e-01],\n",
       "       [5.7153618e-01, 2.1171852e-03, 4.2634660e-01],\n",
       "       [1.5729403e-01, 3.0952445e-04, 8.4239644e-01],\n",
       "       [2.0040175e-01, 2.3512449e-03, 7.9724699e-01],\n",
       "       [9.3959862e-01, 2.5615285e-04, 6.0145237e-02],\n",
       "       [3.8291150e-01, 2.4389089e-03, 6.1464953e-01],\n",
       "       [8.2201332e-01, 2.4869115e-04, 1.7773804e-01],\n",
       "       [8.1478971e-01, 9.1129879e-04, 1.8429901e-01],\n",
       "       [1.1521205e-01, 1.6948968e-04, 8.8461846e-01],\n",
       "       [3.7428334e-01, 4.3966438e-04, 6.2527692e-01],\n",
       "       [5.4833752e-01, 4.1757845e-03, 4.4748667e-01],\n",
       "       [3.4877828e-01, 4.0501601e-04, 6.5081668e-01],\n",
       "       [5.0899960e-02, 2.5704558e-04, 9.4884300e-01]], dtype=float32)"
      ]
     },
     "execution_count": 6,
     "metadata": {},
     "output_type": "execute_result"
    }
   ],
   "source": [
    "batch_board, batch_aux, batch_ys = get_training_data(a)\n",
    "sess.run(net, feed_dict={board: batch_board, aux: batch_aux, Y: batch_ys})"
   ]
  },
  {
   "cell_type": "code",
   "execution_count": 7,
   "metadata": {},
   "outputs": [
    {
     "name": "stdout",
     "output_type": "stream",
     "text": [
      "WARNING:tensorflow:Error encountered when serializing data_augmentation.\n",
      "Type is unsupported, or the types of the items don't match field type in CollectionDef.\n",
      "'NoneType' object has no attribute 'name'\n",
      "WARNING:tensorflow:Error encountered when serializing data_preprocessing.\n",
      "Type is unsupported, or the types of the items don't match field type in CollectionDef.\n",
      "'NoneType' object has no attribute 'name'\n"
     ]
    },
    {
     "data": {
      "text/plain": [
       "'/Users/pschale/pythonstuff/chess_ai_project/test_saved_CNN'"
      ]
     },
     "execution_count": 7,
     "metadata": {},
     "output_type": "execute_result"
    }
   ],
   "source": [
    "saver.save(sess, '/Users/pschale/pythonstuff/chess_ai_project/test_saved_CNN')"
   ]
  },
  {
   "cell_type": "code",
   "execution_count": 8,
   "metadata": {},
   "outputs": [
    {
     "data": {
      "text/plain": [
       "array([[0.66404384, 0.00343669, 0.33251947],\n",
       "       [0.6768603 , 0.00337868, 0.31976116],\n",
       "       [0.7156529 , 0.00308562, 0.28126144],\n",
       "       [0.68724227, 0.00331419, 0.30944356],\n",
       "       [0.6775251 , 0.00343225, 0.31904262],\n",
       "       [0.69907445, 0.00323504, 0.29769057],\n",
       "       [0.66996163, 0.00322153, 0.32681683],\n",
       "       [0.6801045 , 0.00318068, 0.31671485],\n",
       "       [0.6916137 , 0.00314461, 0.3052417 ],\n",
       "       [0.6899245 , 0.00309886, 0.30697668],\n",
       "       [0.7165306 , 0.00309808, 0.2803713 ],\n",
       "       [0.6950692 , 0.00310822, 0.30182266],\n",
       "       [0.6887055 , 0.00322423, 0.3080703 ],\n",
       "       [0.68773323, 0.00308759, 0.30917922],\n",
       "       [0.6972107 , 0.00319519, 0.29959407],\n",
       "       [0.7337678 , 0.00294746, 0.2632848 ],\n",
       "       [0.68326306, 0.00318891, 0.31354806],\n",
       "       [0.7039133 , 0.00298165, 0.29310504],\n",
       "       [0.65740556, 0.00333912, 0.33925533],\n",
       "       [0.6639371 , 0.00326991, 0.33279303]], dtype=float32)"
      ]
     },
     "execution_count": 8,
     "metadata": {},
     "output_type": "execute_result"
    }
   ],
   "source": [
    "a = cg.game_board()\n",
    "next_inputs = [ele.get_NN_inputs() for ele in a.find_all_next_board_positions()]\n",
    "batch_board = np.array([ele[0] for ele in next_inputs])\n",
    "batch_aux = np.array([ele[1] for ele in next_inputs])\n",
    "sess.run(net, feed_dict={board: batch_board, aux: batch_aux})"
   ]
  },
  {
   "cell_type": "code",
   "execution_count": null,
   "metadata": {
    "collapsed": true
   },
   "outputs": [],
   "source": []
  },
  {
   "cell_type": "code",
   "execution_count": null,
   "metadata": {
    "collapsed": true
   },
   "outputs": [],
   "source": []
  },
  {
   "cell_type": "code",
   "execution_count": null,
   "metadata": {},
   "outputs": [],
   "source": [
    "tf.saved_model.simple_save(sess, \n",
    "                            '/Users/pschale/pythonstuff/chess_ai_project/simple_saved',\n",
    "                          inputs={\"board\":board, \"aux\":aux},\n",
    "                          outputs={\"net\": net})"
   ]
  },
  {
   "cell_type": "code",
   "execution_count": null,
   "metadata": {
    "collapsed": true
   },
   "outputs": [],
   "source": [
    "b = cg.game_board()\n",
    "next_positions = b.find_all_next_board_positions('W')\n",
    "next_positions_ar = np.array([ele.to_csv_format() for ele in next_positions])\n",
    "next_positions_ar[:, :64] = le.transform(next_positions_ar[:, :64])\n"
   ]
  },
  {
   "cell_type": "code",
   "execution_count": null,
   "metadata": {
    "collapsed": true
   },
   "outputs": [],
   "source": [
    "next_positions = b.find_all_next_board_positions('W')\n",
    "next_positions_ar = np.array([ele.to_csv_format() for ele in next_positions])\n",
    "next_positions_ar[:, :64] = le.transform(next_positions_ar[:, :64])\n",
    "\n",
    "next_scores = sess.run(net, feed_dict={X:next_positions_ar})\n",
    "b = next_positions[np.argmax(next_scores[:,2])]"
   ]
  },
  {
   "cell_type": "code",
   "execution_count": null,
   "metadata": {
    "collapsed": true
   },
   "outputs": [],
   "source": []
  },
  {
   "cell_type": "code",
   "execution_count": null,
   "metadata": {},
   "outputs": [],
   "source": [
    "print(b)"
   ]
  },
  {
   "cell_type": "code",
   "execution_count": null,
   "metadata": {
    "collapsed": true
   },
   "outputs": [],
   "source": [
    "b.move('Qxe5')"
   ]
  },
  {
   "cell_type": "code",
   "execution_count": null,
   "metadata": {},
   "outputs": [],
   "source": [
    "print(b)"
   ]
  },
  {
   "cell_type": "code",
   "execution_count": null,
   "metadata": {},
   "outputs": [],
   "source": [
    "import importlib\n",
    "importlib.reload(cg)"
   ]
  },
  {
   "cell_type": "code",
   "execution_count": null,
   "metadata": {
    "collapsed": true
   },
   "outputs": [],
   "source": [
    "a = pd.read_csv('board_positions/board_positions_1.txt')"
   ]
  },
  {
   "cell_type": "code",
   "execution_count": null,
   "metadata": {
    "scrolled": true
   },
   "outputs": [],
   "source": [
    "a[a['moves_in_game'] - a['move_num']<10][a.columns[:71]]"
   ]
  },
  {
   "cell_type": "code",
   "execution_count": null,
   "metadata": {
    "collapsed": true
   },
   "outputs": [],
   "source": [
    "tf.__version__"
   ]
  },
  {
   "cell_type": "code",
   "execution_count": null,
   "metadata": {
    "collapsed": true
   },
   "outputs": [],
   "source": []
  },
  {
   "cell_type": "code",
   "execution_count": null,
   "metadata": {
    "collapsed": true
   },
   "outputs": [],
   "source": [
    "a = pd.read_csv('board_positions/board_positions_1.csv')\n",
    "a = a[~a.isnull().any(axis=1)]\n",
    "a = a[a['moves_in_game'] - a['move_num']<10]\n",
    "le = preprocessing.LabelEncoder()\n",
    "le.fit(['k', 'q', 'r', 'b', 'n', 'p', ' ', 'P', 'N', 'B', 'R', 'Q', 'K'])\n",
    "\n",
    "bcols = a.columns[:64]\n",
    "\n",
    "a[bcols] = le.transform(a[bcols])"
   ]
  },
  {
   "cell_type": "code",
   "execution_count": null,
   "metadata": {
    "collapsed": true
   },
   "outputs": [],
   "source": [
    "c = a.sample(100)"
   ]
  },
  {
   "cell_type": "code",
   "execution_count": null,
   "metadata": {},
   "outputs": [],
   "source": [
    "c.shape"
   ]
  },
  {
   "cell_type": "code",
   "execution_count": null,
   "metadata": {},
   "outputs": [],
   "source": [
    "c.as_matrix()[:, :64]"
   ]
  },
  {
   "cell_type": "code",
   "execution_count": null,
   "metadata": {},
   "outputs": [],
   "source": [
    "start = time.time()\n",
    "train = c[c.columns[:71]]\n",
    "train_onehot = np.zeros((100, 71, 8))\n",
    "train_onehot[:, :, 0] = train.isin([7, 8, 9, 10, 11, 12])\n",
    "train_onehot[:, :, 1] = train.isin([0, 1, 2, 3, 4, 5])\n",
    "train_onehot[:, :, 2] = train.isin([0, 12])\n",
    "train_onehot[:, :, 3] = train.isin([1, 11])\n",
    "train_onehot[:, :, 4] = train.isin([2, 10])\n",
    "train_onehot[:, :, 5] = train.isin([3, 9])\n",
    "train_onehot[:, :, 6] = train.isin([4, 8])\n",
    "train_onehot[:, :, 7] = train.isin([5, 7])\n",
    "end = time.time()\n",
    "print(end - start)"
   ]
  },
  {
   "cell_type": "code",
   "execution_count": null,
   "metadata": {},
   "outputs": [],
   "source": [
    "train_onehot[:, :, 0]"
   ]
  },
  {
   "cell_type": "code",
   "execution_count": null,
   "metadata": {
    "collapsed": true
   },
   "outputs": [],
   "source": []
  }
 ],
 "metadata": {
  "kernelspec": {
   "display_name": "Python [conda env:tf]",
   "language": "python",
   "name": "conda-env-tf-py"
  },
  "language_info": {
   "codemirror_mode": {
    "name": "ipython",
    "version": 3
   },
   "file_extension": ".py",
   "mimetype": "text/x-python",
   "name": "python",
   "nbconvert_exporter": "python",
   "pygments_lexer": "ipython3",
   "version": "3.5.2"
  }
 },
 "nbformat": 4,
 "nbformat_minor": 2
}
